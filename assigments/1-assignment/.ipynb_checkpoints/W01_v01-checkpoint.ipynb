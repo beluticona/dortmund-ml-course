{
 "cells": [
  {
   "cell_type": "markdown",
   "metadata": {},
   "source": [
    "# Exercise 1"
   ]
  },
  {
   "cell_type": "code",
   "execution_count": 4,
   "metadata": {},
   "outputs": [
    {
     "data": {
      "text/plain": [
       "str"
      ]
     },
     "execution_count": 4,
     "metadata": {},
     "output_type": "execute_result"
    }
   ],
   "source": [
    "s1 = \"564\"\n",
    "# Store the type of s1 in variable r1\n",
    "r1 = type(s1)\n",
    "r1"
   ]
  },
  {
   "cell_type": "code",
   "execution_count": 7,
   "metadata": {},
   "outputs": [
    {
     "data": {
      "text/plain": [
       "600"
      ]
     },
     "execution_count": 7,
     "metadata": {},
     "output_type": "execute_result"
    }
   ],
   "source": [
    "x2 = 36\n",
    "# Convert s1 to a number and calculate the sum of s1 and x2. Store the result as r2\n",
    "r2 = int(s1) + x2 \n",
    "r2"
   ]
  },
  {
   "cell_type": "code",
   "execution_count": 8,
   "metadata": {},
   "outputs": [
    {
     "data": {
      "text/plain": [
       "592"
      ]
     },
     "execution_count": 8,
     "metadata": {},
     "output_type": "execute_result"
    }
   ],
   "source": [
    "s3 = \"In the loveliest town of all, where the houses were white and high and the elms trees were green and higher than the houses, where the front yards were wide and pleasant and the back yards were bushy and worth finding out about, where the streets sloped down to the stream and the stream flowed quietly under the bridge, where the lawns ended in orchards and the orchards ended in fields and the fields ended in pastures and the pastures climbed the hill and disappeared over the top toward the wonderful wide sky, in this loveliest of all towns Stuart stopped to get a drink of sarsaparilla.\"\n",
    "# How long is s3 in characters (incl. white spaces)? Store this number as r3\n",
    "r3 = len(s3)\n",
    "r3"
   ]
  },
  {
   "cell_type": "code",
   "execution_count": 11,
   "metadata": {},
   "outputs": [
    {
     "data": {
      "text/plain": [
       "4"
      ]
     },
     "execution_count": 11,
     "metadata": {},
     "output_type": "execute_result"
    }
   ],
   "source": [
    "# How often does the word \"were\" appear in s3? Store this as r4\n",
    "r4 = s3.count('were')\n",
    "r4 "
   ]
  },
  {
   "cell_type": "code",
   "execution_count": 15,
   "metadata": {},
   "outputs": [
    {
     "data": {
      "text/plain": [
       "107"
      ]
     },
     "execution_count": 15,
     "metadata": {},
     "output_type": "execute_result"
    }
   ],
   "source": [
    "# How many words are in s3 (also \"a\" counts as a word)? Store it as r5\n",
    "r5 = len(s3.split()) \n",
    "r5"
   ]
  },
  {
   "cell_type": "markdown",
   "metadata": {},
   "source": [
    "# Exercise 2"
   ]
  },
  {
   "cell_type": "code",
   "execution_count": 60,
   "metadata": {},
   "outputs": [
    {
     "data": {
      "text/plain": [
       "'Tiger'"
      ]
     },
     "execution_count": 60,
     "metadata": {},
     "output_type": "execute_result"
    }
   ],
   "source": [
    "animals = [\"Bear\",\"Cat\",\"Ape\",\"Bear\",\"Cat\",\"Bear\",\"Ape\",\"Cat\",\"Bear\",\"Bear\",\"Tiger\",\"Tiger\",\"Ant\",\"Bird\",\"Bird\",\"Tiger\",\"Bear\",\"Ape\",\"Dog\",\"Ant\",\"Ape\",\"Bear\",\"Tiger\",\"Dog\",\"Ant\",\"Tiger\",\"Cat\",\"Ant\",\"Bird\",\"Bear\",\"Dog\",\"Bird\",\"Cat\",\"Tiger\",\"Bear\",\"Bear\",\"Cat\",\"Tiger\",\"Cat\",\"Dog\",\"Ant\",\"Bear\",\"Cat\",\"Ant\",\"Bird\",\"Dog\"]\n",
    "# Which animal is at the 23rd position of the animal list? Store it as r6\n",
    "r6 = animals[22]\n",
    "r6"
   ]
  },
  {
   "cell_type": "code",
   "execution_count": 61,
   "metadata": {},
   "outputs": [
    {
     "data": {
      "text/plain": [
       "8"
      ]
     },
     "execution_count": 61,
     "metadata": {},
     "output_type": "execute_result"
    }
   ],
   "source": [
    "# How often does \"Cat\" appear in animals? Store this as r7\n",
    "r7 = animals.count('Cat')\n",
    "r7"
   ]
  },
  {
   "cell_type": "code",
   "execution_count": 67,
   "metadata": {},
   "outputs": [
    {
     "data": {
      "text/plain": [
       "['Ant', 'Ape', 'Bear', 'Bird', 'Cat', 'Dog', 'Tiger']"
      ]
     },
     "execution_count": 67,
     "metadata": {},
     "output_type": "execute_result"
    }
   ],
   "source": [
    "# Create a list of the unique animal names that appear in animals. Sort this list alphabetically. Store it as r8\n",
    "# option using numpy\n",
    "import numpy as np\n",
    "\n",
    "animals_np = np.array(animals)\n",
    "animals_np = np.unique(animals_np)\n",
    "r8 = list(np.sort(animals_np))\n",
    "r8"
   ]
  },
  {
   "cell_type": "code",
   "execution_count": 70,
   "metadata": {},
   "outputs": [],
   "source": [
    "# Remove all animals that start with \"B\" from the animals list. Store this new list as r9.\n",
    "# The animals list should stay as it was!\n",
    "r9 = [x for x in animals if not x.startswith('B')]"
   ]
  },
  {
   "cell_type": "code",
   "execution_count": 73,
   "metadata": {},
   "outputs": [
    {
     "data": {
      "text/plain": [
       "['Cat',\n",
       " 'Ape',\n",
       " 'Cat',\n",
       " 'Ape',\n",
       " 'Cat',\n",
       " 'Tiger',\n",
       " 'Tiger',\n",
       " 'Ant',\n",
       " 'Tiger',\n",
       " 'Ape',\n",
       " 'Dog',\n",
       " 'Ant',\n",
       " 'Ape',\n",
       " 'Tiger',\n",
       " 'Dog',\n",
       " 'Ant',\n",
       " 'Tiger',\n",
       " 'Cat',\n",
       " 'Ant',\n",
       " 'Dog',\n",
       " 'Cat',\n",
       " 'Tiger',\n",
       " 'Cat',\n",
       " 'Tiger',\n",
       " 'Cat',\n",
       " 'Dog',\n",
       " 'Ant',\n",
       " 'Cat',\n",
       " 'Ant',\n",
       " 'Dog']"
      ]
     },
     "execution_count": 73,
     "metadata": {},
     "output_type": "execute_result"
    }
   ],
   "source": [
    "r9"
   ]
  },
  {
   "cell_type": "markdown",
   "metadata": {},
   "source": [
    "# Exercise 3"
   ]
  },
  {
   "cell_type": "code",
   "execution_count": 84,
   "metadata": {},
   "outputs": [
    {
     "data": {
      "text/plain": [
       "3578"
      ]
     },
     "execution_count": 84,
     "metadata": {},
     "output_type": "execute_result"
    }
   ],
   "source": [
    "# For some shipments in a supply chain the item, the item category, \n",
    "# the shipped amount and the returned amount (in cases) is given\n",
    "item = [\"sparkling water\",\"blueberry muffin\",\"lids\",\"blueberry muffin\",\"decaffeinated coffee\",\"milk chocolate\",\"milk chocolate\",\"lemonade\",\"chicken sandwich\",\"plain bagel\",\"milk\",\"strawberry yogurt\",\"nuts and raisins\",\"nuts and raisins\",\"cups\",\"almond croissant\",\"iced tea\",\"cups\",\"milk chocolate\",\"spring salad\",\"grilled cheese sandwich\",\"decaffeinated coffee\",\"cups\",\"sparkling water\",\"granola bar\",\"egg salad sandwich\",\"orange juice\",\"milk\",\"milk chocolate\",\"blueberry muffin\",\"cranberry and almond bar\",\"lids\",\"lemonade\",\"marble pound cake\",\"milk\",\"iced tea\",\"salmon bistro box\",\"marble pound cake\",\"milk chocolate\",\"strawberry yogurt\",\"whipped cream\",\"almond croissant\",\"sparkling water\",\"oatmeal\",\"scone\",\"cranberry and almond bar\",\"chicken sandwich\",\"lemonade\",\"scone\",\"cranberry and almond bar\",\"spring salad\",\"lemonade\",\"cinnamon bagel\",\"apple juice\",\"cups\",\"oatmeal\",\"nuts and raisins\",\"lids\",\"sparkling water\",\"milk\",\"egg salad sandwich\",\"iced tea\",\"salmon bistro box\",\"sparkling water\",\"marble pound cake\",\"plain bagel\",\"milk\",\"cups\",\"grilled cheese sandwich\",\"nuts and raisins\",\"nuts and raisins\",\"chocolate croissant\",\"spring salad\",\"granola bar\",\"lids\",\"cranberry and almond bar\",\"egg salad sandwich\",\"egg salad sandwich\",\"cranberry and almond bar\",\"decaffeinated coffee\",\"almond croissant\",\"lemonade\",\"lids\",\"sparkling water\",\"apple juice\",\"salmon bistro box\",\"whipped cream\",\"lemonade\",\"strawberry yogurt\",\"orange juice\",\"almond croissant\",\"cinnamon bagel\",\"marble pound cake\",\"orange juice\",\"chocolate croissant\",\"cups\",\"oatmeal\",\"sparkling water\",\"normal coffee\",\"blueberry muffin\",\"blueberry muffin\",\"nuts and raisins\",\"nuts and raisins\",\"scone\",\"milk\",\"decaffeinated coffee\",\"iced tea\",\"granola bar\",\"lids\",\"milk\",\"oatmeal\",\"normal coffee\",\"salmon bistro box\",\"lemonade\",\"cinnamon bagel\",\"normal coffee\",\"almond croissant\"]\n",
    "category = [\"beverage\",\"bakery\",\"container\",\"bakery\",\"coffee\",\"packaged food\",\"packaged food\",\"beverage\",\"prepared food\",\"bakery\",\"dairy\",\"prepared food\",\"packaged food\",\"packaged food\",\"container\",\"bakery\",\"beverage\",\"container\",\"packaged food\",\"prepared food\",\"prepared food\",\"coffee\",\"container\",\"beverage\",\"packaged food\",\"prepared food\",\"beverage\",\"dairy\",\"packaged food\",\"bakery\",\"packaged food\",\"container\",\"beverage\",\"bakery\",\"dairy\",\"beverage\",\"prepared food\",\"bakery\",\"packaged food\",\"prepared food\",\"dairy\",\"bakery\",\"beverage\",\"packaged food\",\"bakery\",\"packaged food\",\"prepared food\",\"beverage\",\"bakery\",\"packaged food\",\"prepared food\",\"beverage\",\"bakery\",\"beverage\",\"container\",\"packaged food\",\"packaged food\",\"container\",\"beverage\",\"dairy\",\"prepared food\",\"beverage\",\"prepared food\",\"beverage\",\"bakery\",\"bakery\",\"dairy\",\"container\",\"prepared food\",\"packaged food\",\"packaged food\",\"bakery\",\"prepared food\",\"packaged food\",\"container\",\"packaged food\",\"prepared food\",\"prepared food\",\"packaged food\",\"coffee\",\"bakery\",\"beverage\",\"container\",\"beverage\",\"beverage\",\"prepared food\",\"dairy\",\"beverage\",\"prepared food\",\"beverage\",\"bakery\",\"bakery\",\"bakery\",\"beverage\",\"bakery\",\"container\",\"packaged food\",\"beverage\",\"coffee\",\"bakery\",\"bakery\",\"packaged food\",\"packaged food\",\"bakery\",\"dairy\",\"coffee\",\"beverage\",\"packaged food\",\"container\",\"dairy\",\"packaged food\",\"coffee\",\"prepared food\",\"beverage\",\"bakery\",\"coffee\",\"bakery\"]\n",
    "shipped = [49,25,41,28,49,28,25,37,49,41,23,21,37,44,38,48,21,50,26,26,33,39,25,42,37,43,35,38,43,24,47,22,27,44,21,43,34,42,39,29,25,20,36,39,45,50,34,25,43,35,28,21,34,21,35,25,31,23,45,39,31,40,46,28,35,46,36,46,43,21,47,30,40,36,24,28,32,30,27,36,41,43,42,32,40,26,41,40,33,40,41,45,43,36,46,30,40,42,39,40,48,44,36,49,27,31,26,23,22,44,50,38,35,36,20,36,31]\n",
    "returned = [1,0,7,7,0,1,9,1,4,8,10,9,0,9,2,7,3,6,7,1,6,4,1,0,1,6,2,7,5,1,2,4,4,5,7,4,7,4,1,5,2,6,0,7,8,4,1,7,5,0,9,1,0,6,8,6,7,10,9,5,9,0,1,0,10,7,4,2,8,8,9,4,7,7,5,5,1,6,1,6,3,2,8,9,0,9,3,10,9,1,4,8,2,2,10,1,0,3,1,10,8,8,4,8,6,8,2,2,7,7,4,4,9,7,4,6,9]\n",
    "# How many cases were shipped in total? Store this number as r10\n",
    "\n",
    "r10 = sum([shipped[i]-returned[i] for i in range(len(shipped))])\n",
    "r10"
   ]
  },
  {
   "cell_type": "code",
   "execution_count": 11,
   "metadata": {},
   "outputs": [],
   "source": [
    "# What is the total return ratio, i.e. the total number of returns divided by the total number of shipments?\n",
    "# Store this ratio (number between 0-1) as r11\n",
    "r11 = sum(shipped)/sum(returned)"
   ]
  },
  {
   "cell_type": "code",
   "execution_count": 86,
   "metadata": {},
   "outputs": [
    {
     "data": {
      "text/plain": [
       "6.586956521739131"
      ]
     },
     "execution_count": 86,
     "metadata": {},
     "output_type": "execute_result"
    }
   ],
   "source": [
    "# What is the return ratio for the category \"bakery\"? Store this number as r12\n",
    "total_sum_shipped = 0\n",
    "total_sum_returned = 0\n",
    "for i in range(len(category)):\n",
    "    if category[i]=='bakery':\n",
    "        total_sum_shipped += shipped[i]\n",
    "        total_sum_returned += returned[i]\n",
    "r12 = total_sum_shipped/total_sum_returned\n",
    "r12"
   ]
  },
  {
   "cell_type": "code",
   "execution_count": 13,
   "metadata": {},
   "outputs": [],
   "source": [
    "# Which item has the lowest return ratio? Store this item name as r13\n",
    "r13"
   ]
  },
  {
   "cell_type": "code",
   "execution_count": 88,
   "metadata": {},
   "outputs": [],
   "source": [
    "def calculate_total_return_ratio_for(item, shipped, returned, item_elems):\n",
    "    total_sum_shipped = 0\n",
    "    total_sum_returned = 0\n",
    "    for i in range(len(category)):\n",
    "        if item_elems[i] == item:\n",
    "            total_sum_shipped += shipped[i]\n",
    "            total_sum_returned += returned[i]\n",
    "    return total_sum_shipped/total_sum_returned"
   ]
  },
  {
   "cell_type": "code",
   "execution_count": 89,
   "metadata": {},
   "outputs": [],
   "source": [
    "item_elems = np.unique(np.array(item))\n",
    "# calculate total return ratio for each element in item\n",
    "total_ratio_return = [ calculate_total_return_ratio_for(elem, shipped, returned, item) for elem in item_elems] \n",
    "r13 = min(total_ratio_return)"
   ]
  },
  {
   "cell_type": "code",
   "execution_count": 92,
   "metadata": {},
   "outputs": [
    {
     "data": {
      "text/plain": [
       "3.608695652173913"
      ]
     },
     "execution_count": 92,
     "metadata": {},
     "output_type": "execute_result"
    }
   ],
   "source": [
    "r13"
   ]
  },
  {
   "cell_type": "code",
   "execution_count": null,
   "metadata": {},
   "outputs": [],
   "source": []
  }
 ],
 "metadata": {
  "kernelspec": {
   "display_name": "Python 3",
   "language": "python",
   "name": "python3"
  },
  "language_info": {
   "codemirror_mode": {
    "name": "ipython",
    "version": 3
   },
   "file_extension": ".py",
   "mimetype": "text/x-python",
   "name": "python",
   "nbconvert_exporter": "python",
   "pygments_lexer": "ipython3",
   "version": "3.6.9"
  }
 },
 "nbformat": 4,
 "nbformat_minor": 4
}
