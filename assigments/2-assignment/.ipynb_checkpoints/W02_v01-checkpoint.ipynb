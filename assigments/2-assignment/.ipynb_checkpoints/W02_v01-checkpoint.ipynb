{
 "cells": [
  {
   "cell_type": "markdown",
   "metadata": {},
   "source": [
    "# Basic Operations\n",
    "I recommend using the code of this section as a starting point for the analysis. Especially the \"shelfx\" variables will save you some time typing the items by hand. But in the end it is up to you. You can also start from scratch."
   ]
  },
  {
   "cell_type": "code",
   "execution_count": null,
   "metadata": {},
   "outputs": [],
   "source": [
    "#file = open(\"examples/Assignment_02_data_groceries.csv\")\n",
    "#file = open(\"c:/DataScience/examples/Assignment_02_data_groceries.csv\")\n",
    "file = open(\"Assignment_02_data_groceries.csv\")\n",
    "s = file.read()\n",
    "file.close()"
   ]
  },
  {
   "cell_type": "code",
   "execution_count": null,
   "metadata": {},
   "outputs": [],
   "source": [
    "baskets = s.split(\"\\n\")"
   ]
  },
  {
   "cell_type": "code",
   "execution_count": null,
   "metadata": {},
   "outputs": [],
   "source": [
    "baskets = [x.split(\",\") for x in baskets]"
   ]
  },
  {
   "cell_type": "code",
   "execution_count": null,
   "metadata": {},
   "outputs": [],
   "source": [
    "SKUs = s.replace(\"\\n\",\",\")"
   ]
  },
  {
   "cell_type": "code",
   "execution_count": null,
   "metadata": {},
   "outputs": [],
   "source": [
    "SKUs = SKUs.split(\",\")"
   ]
  },
  {
   "cell_type": "code",
   "execution_count": null,
   "metadata": {},
   "outputs": [],
   "source": [
    "SKUs = list(set(SKUs))"
   ]
  },
  {
   "cell_type": "code",
   "execution_count": null,
   "metadata": {},
   "outputs": [],
   "source": [
    "SKUs.remove(\"\")"
   ]
  },
  {
   "cell_type": "code",
   "execution_count": null,
   "metadata": {},
   "outputs": [],
   "source": [
    "len(SKUs)"
   ]
  },
  {
   "cell_type": "code",
   "execution_count": null,
   "metadata": {},
   "outputs": [],
   "source": [
    "SKUs.sort()"
   ]
  },
  {
   "cell_type": "code",
   "execution_count": null,
   "metadata": {},
   "outputs": [],
   "source": [
    "# Support of single items\n",
    "item = \"cereals\"\n",
    "item_count = 0\n",
    "for x in baskets:\n",
    "    if item in x:\n",
    "        item_count += 1\n",
    "print(\"Support for {0:}: {1:.2f}\".format(item,item_count/len(baskets)))"
   ]
  },
  {
   "cell_type": "code",
   "execution_count": null,
   "metadata": {},
   "outputs": [],
   "source": [
    "# Support, lift and leverage for item combinations\n",
    "item1 = \"cereals\"\n",
    "item2 = \"whole milk\"\n",
    "item1_count = 0\n",
    "item2_count = 0\n",
    "item_combi_count = 0\n",
    "count_baskets = len(baskets)\n",
    "for x in baskets:\n",
    "    if item1 in x:\n",
    "        item1_count += 1\n",
    "        if item2 in x:\n",
    "            item_combi_count += 1\n",
    "    if item2 in x:\n",
    "        item2_count += 1\n",
    "support = item_combi_count/count_baskets\n",
    "lift = item_combi_count / item1_count/ item2_count * count_baskets\n",
    "leverage = item_combi_count / count_baskets - item1_count * item2_count / count_baskets**2\n",
    "print(\"KPIs for combination \" + item1 + \"/\" + item2 + \":\")\n",
    "print(\"Support: {0:.3f}\".format(support))\n",
    "print(\"Lift: {0:.3f}\".format(lift))\n",
    "print(\"Leverage: {0:.3f}\".format(leverage))"
   ]
  },
  {
   "cell_type": "code",
   "execution_count": null,
   "metadata": {},
   "outputs": [],
   "source": [
    "shelf1 = ['shopping bags','newspapers','long life bakery product','cling film/bags','flower (seeds)','pet care','photo/film','candles','dog food','rice','instant coffee','kitchen towels','light bulbs','preservation products','sound storage medium']\n",
    "shelf2 = ['soda','bottled water','bottled beer','canned beer','fruit/vegetable juice','red/blush wine','white wine','liquor','sparkling wine','rum','brandy','cocoa drinks','prosecco','liqueur','whisky']\n",
    "shelf3 = ['rolls/buns','sausage','pastry','brown bread','frankfurter','pork','beef','white bread','waffles','hamburger meat','zwieback','cereals','syrup','fish','honey']\n",
    "shelf4 = ['napkins','hygiene articles','softener','cleaner','male cosmetics','abrasive cleaner','skin care','bathroom cleaner','decalcifier','hair spray','make up remover','toilet cleaner','baby cosmetics','kitchen utensil','baby food']\n",
    "shelf5 = ['chocolate','salty snack','specialty chocolate','candy','specialty bar','chewing gum','cake bar','chocolate marshmallow','popcorn','nuts/prunes','artif. sweetener','snack products','cookware','cooking chocolate','pudding powder']\n",
    "shelf6 = ['other vegetables','root vegetables','tropical fruit','citrus fruit','pip fruit','sauces','spices','ketchup','tea','canned fruit','potato products','organic sausage','ready soups','specialty vegetables','salad dressing']\n",
    "shelf7 = ['whole milk','yogurt','butter','curd','frozen meals','spread cheese','frozen dessert','condensed milk','specialty cheese','frozen potato products','finished products','curd cheese','cream','frozen fruits','frozen chicken']\n",
    "shelves = [shelf1, shelf2, shelf3, shelf4, shelf5, shelf6, shelf7]"
   ]
  },
  {
   "cell_type": "markdown",
   "metadata": {},
   "source": [
    "# Advanced Operations\n",
    "You don't have to use the following code. It is not the solution, but hopefully some reasonable approaches...\n",
    "\n",
    "It might take some time for you to understand, what is going on. This is because the code is not commented at all. You should do it better in your submission! But the way it is, it is a nice exercise for you to learn Python...\n",
    "\n",
    "Ideally you first discuss conceptually within the team, how you want to solve the problem and try coding.\n",
    "\n",
    "But feel free to use the code below as it is, adapt it, or use it as a source for ideas.\n",
    "\n",
    "If the code below is confusing to you, don't spend too much time with it, but come up with an own approach and implementation. This is an open exercise, so there are many different reasonable ways of solving the problem, and in real life the simpler solutions are better, if everything else is equal."
   ]
  },
  {
   "cell_type": "code",
   "execution_count": null,
   "metadata": {},
   "outputs": [],
   "source": [
    "import itertools as it\n",
    "combi = list(it.combinations(SKUs,2))\n",
    "print(len(combi))"
   ]
  },
  {
   "cell_type": "code",
   "execution_count": null,
   "metadata": {},
   "outputs": [],
   "source": [
    "support_items = {}\n",
    "count_baskets = len(baskets)\n",
    "for i, item in enumerate(SKUs):\n",
    "    item_count = 0\n",
    "    for x in baskets:\n",
    "        if item in x:\n",
    "            item_count += 1\n",
    "    support_items[item] = item_count/count_baskets\n",
    "\n",
    "support_items = dict(sorted(support_items.items(), key=lambda x: x[1], reverse=True))\n",
    "#support_items"
   ]
  },
  {
   "cell_type": "code",
   "execution_count": null,
   "metadata": {},
   "outputs": [],
   "source": [
    "support = {}\n",
    "lift = {}\n",
    "leverage = {}\n",
    "count_baskets = len(baskets)\n",
    "# Not a very efficient way to perform the analysis, but it works\n",
    "for c in combi:\n",
    "    item1 = c[0]\n",
    "    item2 = c[1]\n",
    "    item1_count = 0\n",
    "    item2_count = 0\n",
    "    item_combi_count = 0\n",
    "    for x in baskets:\n",
    "        if item1 in x:\n",
    "            item1_count += 1\n",
    "            if item2 in x:\n",
    "                item_combi_count += 1\n",
    "        if item2 in x:\n",
    "            item2_count += 1\n",
    "    support[c] = item_combi_count/count_baskets\n",
    "    lift[c] = item_combi_count / item1_count/ item2_count * count_baskets\n",
    "    leverage[c] = item_combi_count / count_baskets - item1_count * item2_count / count_baskets**2"
   ]
  },
  {
   "cell_type": "code",
   "execution_count": null,
   "metadata": {},
   "outputs": [],
   "source": [
    "support = dict(sorted(support.items(), key=lambda x: x[1], reverse=True))\n",
    "lift = dict(sorted(lift.items(), key=lambda x: x[1], reverse=True))\n",
    "leverage = dict(sorted(leverage.items(), key=lambda x: x[1], reverse=True))"
   ]
  },
  {
   "cell_type": "code",
   "execution_count": null,
   "metadata": {},
   "outputs": [],
   "source": [
    "def AvgKPI(shelves_list, KPI):\n",
    "    matrix = np.zeros([len(SKUs),7])\n",
    "    for i, item in enumerate(support_items.keys()):\n",
    "        skip_row = -1\n",
    "        for k, shelf in enumerate(shelves_list):\n",
    "            if item in shelf:\n",
    "                skip_row = k\n",
    "        for j, shelf in enumerate(shelves_list):\n",
    "            if skip_row >= 0:\n",
    "                if j == skip_row:\n",
    "                    matrix[i,j] = 100\n",
    "                else:\n",
    "                    matrix[i,j] = -99\n",
    "            else:\n",
    "                count = 0\n",
    "                for item2 in shelf:\n",
    "                    if (item, item2) in KPI:\n",
    "                        count += KPI[(item, item2)]\n",
    "                    else:\n",
    "                        count += KPI[(item2, item)]\n",
    "                matrix[i,j] = count/len(shelf)\n",
    "    return matrix"
   ]
  },
  {
   "cell_type": "code",
   "execution_count": null,
   "metadata": {
    "scrolled": true
   },
   "outputs": [],
   "source": [
    "support_shelf = AvgKPI(shelves, support)\n",
    "leverage_shelf = AvgKPI(shelves, leverage)\n",
    "lift_shelf = AvgKPI(shelves, lift)"
   ]
  },
  {
   "cell_type": "code",
   "execution_count": null,
   "metadata": {},
   "outputs": [],
   "source": [
    "item_list = np.array(list(support_items.keys()))"
   ]
  },
  {
   "cell_type": "code",
   "execution_count": null,
   "metadata": {},
   "outputs": [],
   "source": [
    "KPI = support_shelf\n",
    "shelf_choice = np.array(list(map(np.argmax,KPI)))\n",
    "existing_items = np.array(list(map(np.min,KPI))) == -99\n",
    "for i in range(7):\n",
    "    print(\"Shelf \" + str(i+1) + \": \" + str(len(item_list[(shelf_choice == i) & (existing_items == False)])))\n",
    "    print(item_list[(shelf_choice == i) & (existing_items == False)])\n",
    "    print(\"\\n\")"
   ]
  },
  {
   "cell_type": "code",
   "execution_count": null,
   "metadata": {},
   "outputs": [],
   "source": []
  }
 ],
 "metadata": {
  "kernelspec": {
   "display_name": "Python 3",
   "language": "python",
   "name": "python3"
  },
  "language_info": {
   "codemirror_mode": {
    "name": "ipython",
    "version": 3
   },
   "file_extension": ".py",
   "mimetype": "text/x-python",
   "name": "python",
   "nbconvert_exporter": "python",
   "pygments_lexer": "ipython3",
   "version": "3.6.9"
  }
 },
 "nbformat": 4,
 "nbformat_minor": 4
}
