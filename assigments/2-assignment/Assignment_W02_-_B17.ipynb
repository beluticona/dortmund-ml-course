{
 "cells": [
  {
   "cell_type": "markdown",
   "metadata": {},
   "source": [
    "# Assignment W02 - B17"
   ]
  },
  {
   "cell_type": "markdown",
   "metadata": {},
   "source": [
    "Import data from file"
   ]
  },
  {
   "cell_type": "code",
   "execution_count": 43,
   "metadata": {},
   "outputs": [],
   "source": [
    "# Importing the file\n",
    "file = open(\"W02_data_groceries.csv\")\n",
    "s = file.read()\n",
    "file.close()"
   ]
  },
  {
   "cell_type": "markdown",
   "metadata": {},
   "source": [
    "Get all baskets in the list baskets"
   ]
  },
  {
   "cell_type": "code",
   "execution_count": 44,
   "metadata": {},
   "outputs": [],
   "source": [
    "# Seperating each transaction\n",
    "baskets = s.split(\"\\n\")\n",
    "# Each transaction is a list that contains all the items\n",
    "baskets = [x.split(\",\") for x in baskets]"
   ]
  },
  {
   "cell_type": "markdown",
   "metadata": {},
   "source": [
    "Get the list of all items to be placed in shelves (some are already there, others not yet)"
   ]
  },
  {
   "cell_type": "code",
   "execution_count": 45,
   "metadata": {},
   "outputs": [],
   "source": [
    "# SKUs is a sorted list of all the items including the new products\n",
    "SKUs = s.replace(\"\\n\",\",\")\n",
    "SKUs = SKUs.split(\",\")\n",
    "SKUs = list(set(SKUs))\n",
    "SKUs.remove(\"\")\n",
    "SKUs.sort()"
   ]
  },
  {
   "cell_type": "code",
   "execution_count": 46,
   "metadata": {},
   "outputs": [
    {
     "name": "stdout",
     "output_type": "stream",
     "text": [
      "Total number of products: 169\n"
     ]
    }
   ],
   "source": [
    "print('Total number of products:', len(SKUs))"
   ]
  },
  {
   "cell_type": "code",
   "execution_count": 47,
   "metadata": {},
   "outputs": [
    {
     "name": "stdout",
     "output_type": "stream",
     "text": [
      "There are 7 shelves, so each one should have more o less 24 items\n"
     ]
    }
   ],
   "source": [
    "import math \n",
    "print('There are 7 shelves, so each one should have more o less', math.floor(169/7), 'items')"
   ]
  },
  {
   "cell_type": "markdown",
   "metadata": {},
   "source": [
    "Items that are already in the shelves (there is no repeated item)"
   ]
  },
  {
   "cell_type": "code",
   "execution_count": 48,
   "metadata": {},
   "outputs": [],
   "source": [
    "shelf1 = ['shopping bags','newspapers','long life bakery product','cling film/bags','flower (seeds)','pet care','photo/film','candles','dog food','rice','instant coffee','kitchen towels','light bulbs','preservation products','sound storage medium']\n",
    "shelf2 = ['soda','bottled water','bottled beer','canned beer','fruit/vegetable juice','red/blush wine','white wine','liquor','sparkling wine','rum','brandy','cocoa drinks','prosecco','liqueur','whisky']\n",
    "shelf3 = ['rolls/buns','sausage','pastry','brown bread','frankfurter','pork','beef','white bread','waffles','hamburger meat','zwieback','cereals','syrup','fish','honey']\n",
    "shelf4 = ['napkins','hygiene articles','softener','cleaner','male cosmetics','abrasive cleaner','skin care','bathroom cleaner','decalcifier','hair spray','make up remover','toilet cleaner','baby cosmetics','kitchen utensil','baby food']\n",
    "shelf5 = ['chocolate','salty snack','specialty chocolate','candy','specialty bar','chewing gum','cake bar','chocolate marshmallow','popcorn','nuts/prunes','artif. sweetener','snack products','cookware','cooking chocolate','pudding powder']\n",
    "shelf6 = ['other vegetables','root vegetables','tropical fruit','citrus fruit','pip fruit','sauces','spices','ketchup','tea','canned fruit','potato products','organic sausage','ready soups','specialty vegetables','salad dressing']\n",
    "shelf7 = ['whole milk','yogurt','butter','curd','frozen meals','spread cheese','frozen dessert','condensed milk','specialty cheese','frozen potato products','finished products','curd cheese','cream','frozen fruits','frozen chicken']\n",
    "shelves = [shelf1, shelf2, shelf3, shelf4, shelf5, shelf6, shelf7]"
   ]
  },
  {
   "cell_type": "code",
   "execution_count": 60,
   "metadata": {},
   "outputs": [
    {
     "name": "stdout",
     "output_type": "stream",
     "text": [
      "0\n",
      "shopping bags\n",
      "newspapers\n",
      "long life bakery product\n",
      "cling film/bags\n",
      "flower (seeds)\n",
      "pet care\n",
      "photo/film\n",
      "candles\n",
      "dog food\n",
      "rice\n",
      "instant coffee\n",
      "kitchen towels\n",
      "light bulbs\n",
      "preservation products\n",
      "sound storage medium\n",
      "1\n",
      "soda\n",
      "bottled water\n",
      "bottled beer\n",
      "canned beer\n",
      "fruit/vegetable juice\n",
      "red/blush wine\n",
      "white wine\n",
      "liquor\n",
      "sparkling wine\n",
      "rum\n",
      "brandy\n",
      "cocoa drinks\n",
      "prosecco\n",
      "liqueur\n",
      "whisky\n",
      "2\n",
      "rolls/buns\n",
      "sausage\n",
      "pastry\n",
      "brown bread\n",
      "frankfurter\n",
      "pork\n",
      "beef\n",
      "white bread\n",
      "waffles\n",
      "hamburger meat\n",
      "zwieback\n",
      "cereals\n",
      "syrup\n",
      "fish\n",
      "honey\n",
      "3\n",
      "napkins\n",
      "hygiene articles\n",
      "softener\n",
      "cleaner\n",
      "male cosmetics\n",
      "abrasive cleaner\n",
      "skin care\n",
      "bathroom cleaner\n",
      "decalcifier\n",
      "hair spray\n",
      "make up remover\n",
      "toilet cleaner\n",
      "baby cosmetics\n",
      "kitchen utensil\n",
      "baby food\n",
      "4\n",
      "chocolate\n",
      "salty snack\n",
      "specialty chocolate\n",
      "candy\n",
      "specialty bar\n",
      "chewing gum\n",
      "cake bar\n",
      "chocolate marshmallow\n",
      "popcorn\n",
      "nuts/prunes\n",
      "artif. sweetener\n",
      "snack products\n",
      "cookware\n",
      "cooking chocolate\n",
      "pudding powder\n",
      "5\n",
      "other vegetables\n",
      "root vegetables\n",
      "tropical fruit\n",
      "citrus fruit\n",
      "pip fruit\n",
      "sauces\n",
      "spices\n",
      "ketchup\n",
      "tea\n",
      "canned fruit\n",
      "potato products\n",
      "organic sausage\n",
      "ready soups\n",
      "specialty vegetables\n",
      "salad dressing\n",
      "6\n",
      "whole milk\n",
      "yogurt\n",
      "butter\n",
      "curd\n",
      "frozen meals\n",
      "spread cheese\n",
      "frozen dessert\n",
      "condensed milk\n",
      "specialty cheese\n",
      "frozen potato products\n",
      "finished products\n",
      "curd cheese\n",
      "cream\n",
      "frozen fruits\n",
      "frozen chicken\n"
     ]
    }
   ],
   "source": [
    "for i, shelf in enumerate(shelves):\n",
    "    print(i)\n",
    "    for p in shelf: \n",
    "        print(p)"
   ]
  },
  {
   "cell_type": "code",
   "execution_count": 49,
   "metadata": {},
   "outputs": [],
   "source": [
    "import itertools\n",
    "\n",
    "already_placed_items = list(itertools.chain.from_iterable(shelves))"
   ]
  },
  {
   "cell_type": "code",
   "execution_count": 50,
   "metadata": {},
   "outputs": [
    {
     "name": "stdout",
     "output_type": "stream",
     "text": [
      "Total number of items in shelves:  105\n"
     ]
    }
   ],
   "source": [
    "print('Total number of items in shelves: ', len(already_placed_items))"
   ]
  },
  {
   "cell_type": "markdown",
   "metadata": {},
   "source": [
    "Calculate items to be placed"
   ]
  },
  {
   "cell_type": "code",
   "execution_count": 51,
   "metadata": {},
   "outputs": [],
   "source": [
    "items_to_be_placed = [ item for item in SKUs if item not in already_placed_items] "
   ]
  },
  {
   "cell_type": "code",
   "execution_count": 52,
   "metadata": {},
   "outputs": [
    {
     "name": "stdout",
     "output_type": "stream",
     "text": [
      "Total number of itemsto be placed in shelves:  64\n"
     ]
    }
   ],
   "source": [
    "print('Total number of itemsto be placed in shelves: ', len(items_to_be_placed))"
   ]
  },
  {
   "cell_type": "markdown",
   "metadata": {},
   "source": [
    "## Strategy #1 to place all remaining items in shelves "
   ]
  },
  {
   "cell_type": "markdown",
   "metadata": {},
   "source": [
    "For each item to be placed, we want to know what is the best shelf in order to improve profits. That is why we created a function that computes a score for each possible location. Then we applied it and placed each item in the shelf with the maximun score.    \n",
    " "
   ]
  },
  {
   "cell_type": "markdown",
   "metadata": {},
   "source": [
    "Our score function is defined considering the following association rules: support, confidence, lift and leverage. These rules calculate if the items should be placed closely together. So in the score function we applied to each possible pair made by an item to be place and an already placed item."
   ]
  },
  {
   "cell_type": "code",
   "execution_count": 53,
   "metadata": {},
   "outputs": [],
   "source": [
    "def get_support_for(item):\n",
    "    item_count = 0\n",
    "    for x in baskets:\n",
    "        if item in x:\n",
    "            item_count += 1\n",
    "    #print(\"Support for {0:}: {1:.2f}\".format(item,item_count/len(baskets)))\n",
    "    return item_count/len(baskets)"
   ]
  },
  {
   "cell_type": "code",
   "execution_count": 54,
   "metadata": {},
   "outputs": [],
   "source": [
    "def get_association_rules_for_pair(pair_of_items):\n",
    "    item1 = pair_of_items[0]\n",
    "    item2 = pair_of_items[1]\n",
    "    item1_count = 0\n",
    "    item2_count = 0\n",
    "    item_combi_count = 0\n",
    "    count_baskets = len(baskets)\n",
    "    for x in baskets:\n",
    "        if item1 in x:\n",
    "            item1_count += 1\n",
    "            if item2 in x:\n",
    "                item_combi_count += 1\n",
    "        if item2 in x:\n",
    "            item2_count += 1\n",
    "    support = item_combi_count/count_baskets\n",
    "    lift = item_combi_count / item1_count/ item2_count * count_baskets\n",
    "    leverage = item_combi_count / count_baskets - item1_count * item2_count / count_baskets**2\n",
    "    confidence = item_combi_count / item1_count\n",
    "    #print(\"KPIs for combination \" + item1 + \"/\" + item2 + \":\")\n",
    "    #print(\"Support: {0:.3f}\".format(support))\n",
    "    #print(\"Lift: {0:.3f}\".format(lift))\n",
    "    #print(\"Leverage: {0:.3f}\".format(leverage))\n",
    "    return support, lift, leverage, confidence"
   ]
  },
  {
   "cell_type": "code",
   "execution_count": 55,
   "metadata": {},
   "outputs": [],
   "source": [
    "def make_pair_of_with_all_from(unplaced_item, shelf_items):\n",
    "    return {(unplaced_item,already_placed_item) for already_placed_item in shelf_items}"
   ]
  },
  {
   "cell_type": "code",
   "execution_count": 56,
   "metadata": {},
   "outputs": [],
   "source": [
    "import numpy as np \n",
    "\n",
    "def score_item_placed_in_shelf(pairs_used_to_calculate_score):\n",
    "    scores = np.zeros(len(pairs_used_to_calculate_score))\n",
    "    for pair_number, pair in enumerate(pairs_used_to_calculate_score):\n",
    "        support, lift, leverage, confidence = get_association_rules_for_pair(pair)\n",
    "        pair_closeness= 0 \n",
    "        if lift>1 and leverage>0:\n",
    "            pair_closeness += confidence + support \n",
    "        if lift<1 and leverage <0:\n",
    "            pair_closeness -= confidence + support\n",
    "        scores[pair_number] = pair_closeness\n",
    "    return scores.mean()"
   ]
  },
  {
   "cell_type": "code",
   "execution_count": 57,
   "metadata": {},
   "outputs": [],
   "source": [
    "shelves_for_items = {}\n",
    "scores = [0]*len(items_to_be_placed)\n",
    "for item_to_be_placed in items_to_be_placed:\n",
    "    for shelf_number, shelf in enumerate(shelves):\n",
    "        shelf_pairs_to_compute_score = make_pair_of_with_all_from(item_to_be_placed, shelf)\n",
    "        scores[shelf_number] = score_item_placed_in_shelf(shelf_pairs_to_compute_score)\n",
    "    shelves_for_items[item_to_be_placed] = scores.index(max(scores))\n",
    "    "
   ]
  },
  {
   "cell_type": "code",
   "execution_count": 58,
   "metadata": {},
   "outputs": [
    {
     "name": "stdout",
     "output_type": "stream",
     "text": [
      "0\n",
      "flower soil/fertilizer\n",
      "1\n",
      "liquor (appetizer)\n",
      "misc. beverages\n",
      "2\n",
      "Instant food products\n",
      "bags\n",
      "berries\n",
      "beverages\n",
      "canned fish\n",
      "cream cheese\n",
      "dental care\n",
      "dish cleaner\n",
      "domestic eggs\n",
      "ham\n",
      "jam\n",
      "liver loaf\n",
      "margarine\n",
      "mayonnaise\n",
      "meat\n",
      "mustard\n",
      "nut snack\n",
      "organic products\n",
      "packaged fruit/vegetables\n",
      "pickled vegetables\n",
      "processed cheese\n",
      "seasonal products\n",
      "semi-finished bread\n",
      "sliced cheese\n",
      "soap\n",
      "soft cheese\n",
      "sugar\n",
      "tidbits\n",
      "5\n",
      "UHT-milk\n",
      "baking powder\n",
      "butter milk\n",
      "canned vegetables\n",
      "chicken\n",
      "detergent\n",
      "dishes\n",
      "female sanitary products\n",
      "flour\n",
      "frozen fish\n",
      "frozen vegetables\n",
      "grapes\n",
      "herbs\n",
      "ice cream\n",
      "oil\n",
      "onions\n",
      "roll products\n",
      "rubbing alcohol\n",
      "salt\n",
      "soups\n",
      "specialty fat\n",
      "sweet spreads\n",
      "turkey\n",
      "vinegar\n",
      "whipped/sour cream\n",
      "6\n",
      "cat food\n",
      "coffee\n",
      "dessert\n",
      "hard cheese\n",
      "house keeping products\n",
      "meat spreads\n",
      "pasta\n",
      "potted plants\n"
     ]
    }
   ],
   "source": [
    "for shelf in set(shelves_for_items.values()):\n",
    "    print(shelf)\n",
    "    for product in shelves_for_items.keys():\n",
    "        if shelves_for_items[product] == shelf:\n",
    "            print(product)"
   ]
  },
  {
   "cell_type": "markdown",
   "metadata": {},
   "source": [
    "Let's count how many items should we put in each shelf according with Strategy #1"
   ]
  },
  {
   "cell_type": "code",
   "execution_count": 17,
   "metadata": {},
   "outputs": [
    {
     "name": "stdout",
     "output_type": "stream",
     "text": [
      "In shelf # 0 , we should add 1  items\n",
      "In shelf # 1 , we should add 2  items\n",
      "In shelf # 2 , we should add 28  items\n",
      "In shelf # 3 , we should add 0  items\n",
      "In shelf # 4 , we should add 0  items\n",
      "In shelf # 5 , we should add 25  items\n",
      "In shelf # 6 , we should add 8  items\n"
     ]
    }
   ],
   "source": [
    "from collections import Counter\n",
    "\n",
    "res = Counter(shelves_for_items.values())\n",
    "for shelf_number in range(len(shelves)):\n",
    "    print('In shelf #', shelf_number, ', we should add', res[shelf_number], ' items') \n"
   ]
  },
  {
   "cell_type": "markdown",
   "metadata": {},
   "source": [
    "## Strategy #2"
   ]
  },
  {
   "cell_type": "markdown",
   "metadata": {},
   "source": [
    "Because in strategy #1 we should place most of all new items in shelf #3 and #6 and we should have 24 more o less items per shelf. There is enough evidence to consider a another kind of distribution."
   ]
  },
  {
   "cell_type": "markdown",
   "metadata": {},
   "source": [
    "After analizing all items already placed in the shelves, we see that we were able to define a category for each shelf's products.\n",
    "\n",
    "shelf #1: miscellaneous\n",
    "shelf #2: beverages\n",
    "shelf #3: brunch\n",
    "shelf #4: hygiene\n",
    "shelf #5: pastries\n",
    "shelf #6: vegetables\n",
    "shelf #7: daires\n",
    "\n",
    "First, we decided to categorize each new item according to our clasification:\n"
   ]
  },
  {
   "cell_type": "code",
   "execution_count": 18,
   "metadata": {},
   "outputs": [],
   "source": [
    "shelf_1_miscellaneous = [items_to_be_placed[0], items_to_be_placed[2], items_to_be_placed[9], items_to_be_placed[21], items_to_be_placed[28], items_to_be_placed[46], items_to_be_placed[48], items_to_be_placed[51]]\n",
    "shelf_2_beverages = [items_to_be_placed[5], items_to_be_placed[31], items_to_be_placed[37]]\n",
    "shelf_3_brunch = [items_to_be_placed[7], items_to_be_placed[10], items_to_be_placed[18], items_to_be_placed[22], items_to_be_placed[25], items_to_be_placed[32], items_to_be_placed[33], items_to_be_placed[35], items_to_be_placed[36], items_to_be_placed[61]] \n",
    "shelf_4_hygiene = [items_to_be_placed[13], items_to_be_placed[15], items_to_be_placed[16], items_to_be_placed[17], items_to_be_placed[19], items_to_be_placed[28], items_to_be_placed[49], items_to_be_placed[54]]\n",
    "shelf_5_pastries = [items_to_be_placed[3], items_to_be_placed[14], items_to_be_placed[18], items_to_be_placed[20], items_to_be_placed[30], items_to_be_placed[39], items_to_be_placed[44], items_to_be_placed[52], items_to_be_placed[57], items_to_be_placed[58], items_to_be_placed[59], items_to_be_placed[60]]\n",
    "shelf_6_vegetables = [items_to_be_placed[4], items_to_be_placed[8], items_to_be_placed[11], items_to_be_placed[23], items_to_be_placed[24], items_to_be_placed[27], items_to_be_placed[34], items_to_be_placed[38], items_to_be_placed[40], items_to_be_placed[41], items_to_be_placed[42], items_to_be_placed[43], items_to_be_placed[45], items_to_be_placed[50], items_to_be_placed[56], items_to_be_placed[62]]\n",
    "shelf_7_dairies = [items_to_be_placed[1], items_to_be_placed[6], items_to_be_placed[12], items_to_be_placed[14], items_to_be_placed[18], items_to_be_placed[26], items_to_be_placed[29],items_to_be_placed[47], items_to_be_placed[53], items_to_be_placed[55], items_to_be_placed[63]]\n",
    "\n",
    "shelves_suggestion = [shelf_1_miscellaneous, shelf_2_beverages, shelf_3_brunch, shelf_4_hygiene, shelf_5_pastries, shelf_6_vegetables, shelf_7_dairies]\n"
   ]
  },
  {
   "cell_type": "code",
   "execution_count": 61,
   "metadata": {},
   "outputs": [
    {
     "name": "stdout",
     "output_type": "stream",
     "text": [
      "0\n",
      "Instant food products\n",
      "bags\n",
      "cat food\n",
      "flower soil/fertilizer\n",
      "house keeping products\n",
      "potted plants\n",
      "roll products\n",
      "seasonal products\n",
      "1\n",
      "beverages\n",
      "liquor (appetizer)\n",
      "misc. beverages\n",
      "2\n",
      "canned fish\n",
      "chicken\n",
      "domestic eggs\n",
      "frozen fish\n",
      "ham\n",
      "liver loaf\n",
      "margarine\n",
      "meat\n",
      "meat spreads\n",
      "turkey\n",
      "3\n",
      "dental care\n",
      "detergent\n",
      "dish cleaner\n",
      "dishes\n",
      "female sanitary products\n",
      "house keeping products\n",
      "rubbing alcohol\n",
      "soap\n",
      "4\n",
      "baking powder\n",
      "dessert\n",
      "domestic eggs\n",
      "flour\n",
      "jam\n",
      "nut snack\n",
      "pasta\n",
      "semi-finished bread\n",
      "specialty fat\n",
      "sugar\n",
      "sweet spreads\n",
      "tidbits\n",
      "5\n",
      "berries\n",
      "canned vegetables\n",
      "coffee\n",
      "frozen vegetables\n",
      "grapes\n",
      "herbs\n",
      "mayonnaise\n",
      "mustard\n",
      "oil\n",
      "onions\n",
      "organic products\n",
      "packaged fruit/vegetables\n",
      "pickled vegetables\n",
      "salt\n",
      "soups\n",
      "vinegar\n",
      "6\n",
      "UHT-milk\n",
      "butter milk\n",
      "cream cheese\n",
      "dessert\n",
      "domestic eggs\n",
      "hard cheese\n",
      "ice cream\n",
      "processed cheese\n",
      "sliced cheese\n",
      "soft cheese\n",
      "whipped/sour cream\n"
     ]
    }
   ],
   "source": [
    "for i, shelf in enumerate(shelves_suggestion):\n",
    "    print(i)\n",
    "    for p in shelf: \n",
    "        print(p)"
   ]
  },
  {
   "cell_type": "code",
   "execution_count": 19,
   "metadata": {},
   "outputs": [
    {
     "data": {
      "text/plain": [
       "[8, 3, 10, 8, 12, 16, 11]"
      ]
     },
     "execution_count": 19,
     "metadata": {},
     "output_type": "execute_result"
    }
   ],
   "source": [
    "count_shelves_suggestions = [len(x) for x in shelves_suggestion]\n",
    "count_shelves_suggestions"
   ]
  },
  {
   "cell_type": "markdown",
   "metadata": {},
   "source": [
    "Second, we consider each item's category to get the score assigned for each item in a particular shelf. Items in their correct category receives a better score."
   ]
  },
  {
   "cell_type": "code",
   "execution_count": 97,
   "metadata": {},
   "outputs": [],
   "source": [
    "shelves_for_items = {}\n",
    "scores = [0]*len(items_to_be_placed)\n",
    "for item_to_be_placed in items_to_be_placed:\n",
    "    for shelf_number, shelf in enumerate(shelves):\n",
    "        shelf_pairs_to_compute_score = make_pair_of_with_all_from(item_to_be_placed, shelf)\n",
    "        score = score_item_placed_in_shelf(shelf_pairs_to_compute_score)\n",
    "        if item_to_be_placed in shelves_suggestion[shelf_number]:\n",
    "            score+=0.052\n",
    "        scores[shelf_number] = score\n",
    "    shelves_for_items[item_to_be_placed] = scores.index(max(scores))\n",
    "    "
   ]
  },
  {
   "cell_type": "code",
   "execution_count": 98,
   "metadata": {
    "scrolled": true
   },
   "outputs": [
    {
     "name": "stdout",
     "output_type": "stream",
     "text": [
      "0\n",
      "bags\n",
      "cat food\n",
      "flower soil/fertilizer\n",
      "house keeping products\n",
      "potted plants\n",
      "1\n",
      "beverages\n",
      "liquor (appetizer)\n",
      "misc. beverages\n",
      "2\n",
      "Instant food products\n",
      "canned fish\n",
      "chicken\n",
      "dental care\n",
      "dish cleaner\n",
      "domestic eggs\n",
      "frozen fish\n",
      "ham\n",
      "jam\n",
      "liver loaf\n",
      "margarine\n",
      "meat\n",
      "meat spreads\n",
      "seasonal products\n",
      "soap\n",
      "sugar\n",
      "tidbits\n",
      "turkey\n",
      "3\n",
      "detergent\n",
      "dishes\n",
      "female sanitary products\n",
      "4\n",
      "nut snack\n",
      "pasta\n",
      "semi-finished bread\n",
      "specialty fat\n",
      "sweet spreads\n",
      "5\n",
      "baking powder\n",
      "berries\n",
      "canned vegetables\n",
      "coffee\n",
      "flour\n",
      "frozen vegetables\n",
      "grapes\n",
      "herbs\n",
      "mayonnaise\n",
      "mustard\n",
      "oil\n",
      "onions\n",
      "organic products\n",
      "packaged fruit/vegetables\n",
      "pickled vegetables\n",
      "roll products\n",
      "rubbing alcohol\n",
      "salt\n",
      "soups\n",
      "vinegar\n",
      "6\n",
      "UHT-milk\n",
      "butter milk\n",
      "cream cheese\n",
      "dessert\n",
      "hard cheese\n",
      "ice cream\n",
      "processed cheese\n",
      "sliced cheese\n",
      "soft cheese\n",
      "whipped/sour cream\n"
     ]
    }
   ],
   "source": [
    "for shelf in set(shelves_for_items.values()):\n",
    "    print(shelf)\n",
    "    for product in shelves_for_items.keys():\n",
    "        if shelves_for_items[product] == shelf:\n",
    "            print(product)"
   ]
  },
  {
   "cell_type": "code",
   "execution_count": 99,
   "metadata": {},
   "outputs": [
    {
     "name": "stdout",
     "output_type": "stream",
     "text": [
      "In shelf # 0 , we should add 5  items Total: 20\n",
      "In shelf # 1 , we should add 3  items Total: 18\n",
      "In shelf # 2 , we should add 18  items Total: 33\n",
      "In shelf # 3 , we should add 3  items Total: 18\n",
      "In shelf # 4 , we should add 5  items Total: 20\n",
      "In shelf # 5 , we should add 20  items Total: 35\n",
      "In shelf # 6 , we should add 10  items Total: 25\n"
     ]
    }
   ],
   "source": [
    "from collections import Counter\n",
    "\n",
    "res = Counter(shelves_for_items.values())\n",
    "for shelf_number in range(len(shelves)):\n",
    "    print('In shelf #', shelf_number, ', we should add', res[shelf_number], ' items', 'Total:', res[shelf_number]+15) \n"
   ]
  },
  {
   "cell_type": "code",
   "execution_count": null,
   "metadata": {},
   "outputs": [],
   "source": []
  }
 ],
 "metadata": {
  "kernelspec": {
   "display_name": "Python 3",
   "language": "python",
   "name": "python3"
  },
  "language_info": {
   "codemirror_mode": {
    "name": "ipython",
    "version": 3
   },
   "file_extension": ".py",
   "mimetype": "text/x-python",
   "name": "python",
   "nbconvert_exporter": "python",
   "pygments_lexer": "ipython3",
   "version": "3.6.9"
  }
 },
 "nbformat": 4,
 "nbformat_minor": 4
}
